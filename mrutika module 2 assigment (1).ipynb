{
 "cells": [
  {
   "cell_type": "code",
   "execution_count": null,
   "id": "34a38241",
   "metadata": {},
   "outputs": [],
   "source": [
    "                                  Module 2"
   ]
  },
  {
   "cell_type": "code",
   "execution_count": null,
   "id": "add972f3",
   "metadata": {},
   "outputs": [],
   "source": [
    "Ans 2:\n",
    "num=int(input())\n",
    "if num>0:\n",
    "     print('positive number')\n",
    "elif num==0:\n",
    "    print('zero')\n",
    "else:\n",
    "    print('negetive number')"
   ]
  },
  {
   "cell_type": "code",
   "execution_count": null,
   "id": "42f68624",
   "metadata": {},
   "outputs": [],
   "source": [
    "Ans 3:"
   ]
  },
  {
   "cell_type": "code",
   "execution_count": null,
   "id": "fab9bf2c",
   "metadata": {},
   "outputs": [],
   "source": [
    "Ans 4:\n",
    "   - Memory management in python involves a private heap containing all python objects and data structures.\n",
    "   - The management of this private heap is ensured intenally by the python memory manager."
   ]
  },
  {
   "cell_type": "code",
   "execution_count": null,
   "id": "1324b464",
   "metadata": {},
   "outputs": [],
   "source": [
    "Ans 5:\n",
    "The continue keyword is used to end the current iteration in a for loop, and continues to the next iteration."
   ]
  },
  {
   "cell_type": "code",
   "execution_count": null,
   "id": "c5e48a75",
   "metadata": {},
   "outputs": [],
   "source": [
    "Ans 6:\n",
    "a=int(input())\n",
    "b=int(input())\n",
    "a,b=b,a\n",
    "print(a)\n",
    "print(b)"
   ]
  },
  {
   "cell_type": "markdown",
   "id": "104bf453",
   "metadata": {},
   "source": [
    "Ans 7:\n",
    "a=int(input())\n",
    "if a % 2 == 0:\n",
    "    print('even number')\n",
    "else:\n",
    "    print('odd number')"
   ]
  },
  {
   "cell_type": "code",
   "execution_count": null,
   "id": "3dea0aab",
   "metadata": {},
   "outputs": [],
   "source": [
    "Ans 8:\n",
    "x=(input())\n",
    "if x in ('a','e','i','o','u'):\n",
    "    print('vovels')\n",
    "else:\n",
    "    print('not vovels')"
   ]
  },
  {
   "cell_type": "code",
   "execution_count": null,
   "id": "9643529d",
   "metadata": {},
   "outputs": [],
   "source": [
    "Ans 9:\n",
    "x=int(input())\n",
    "y=int(input())\n",
    "if x+y==0:\n",
    "    print('yes')\n",
    "else:\n",
    "    print('no')\n",
    "    "
   ]
  },
  {
   "cell_type": "code",
   "execution_count": null,
   "id": "71020893",
   "metadata": {},
   "outputs": [],
   "source": [
    "Ans 10:\n",
    "x=int(input())\n",
    "y=int(input())\n",
    "if x==y or x-y==5:\n",
    "    print('yes')\n",
    "else:\n",
    "    print('no')"
   ]
  },
  {
   "cell_type": "markdown",
   "id": "e24f4002",
   "metadata": {},
   "source": [
    "\n"
   ]
  },
  {
   "cell_type": "code",
   "execution_count": null,
   "id": "679837f1",
   "metadata": {},
   "outputs": [],
   "source": [
    "Ans 11:\n",
    "n=int(input())\n",
    "num=(n * (n+1))/2\n",
    "print('sum of the integers, n, num')"
   ]
  },
  {
   "cell_type": "code",
   "execution_count": null,
   "id": "15743dc0",
   "metadata": {},
   "outputs": [],
   "source": [
    "Ans 13:"
   ]
  },
  {
   "cell_type": "code",
   "execution_count": null,
   "id": "8129f812",
   "metadata": {},
   "outputs": [],
   "source": [
    "Ans 14:"
   ]
  },
  {
   "cell_type": "code",
   "execution_count": null,
   "id": "82fe409c",
   "metadata": {},
   "outputs": [],
   "source": [
    "Ans 15:"
   ]
  },
  {
   "cell_type": "code",
   "execution_count": null,
   "id": "102908a0",
   "metadata": {},
   "outputs": [],
   "source": [
    "Ans 16:"
   ]
  },
  {
   "cell_type": "code",
   "execution_count": null,
   "id": "2ef903f9",
   "metadata": {},
   "outputs": [],
   "source": [
    "Ans 17:"
   ]
  },
  {
   "cell_type": "code",
   "execution_count": null,
   "id": "7eb82ced",
   "metadata": {},
   "outputs": [],
   "source": [
    "Ans 18:"
   ]
  },
  {
   "cell_type": "code",
   "execution_count": null,
   "id": "93426b92",
   "metadata": {},
   "outputs": [],
   "source": [
    "Anss 19:"
   ]
  },
  {
   "cell_type": "code",
   "execution_count": null,
   "id": "02f7225f",
   "metadata": {},
   "outputs": [],
   "source": [
    "Ans 20:"
   ]
  },
  {
   "cell_type": "code",
   "execution_count": null,
   "id": "e542b4d9",
   "metadata": {},
   "outputs": [],
   "source": []
  }
 ],
 "metadata": {
  "kernelspec": {
   "display_name": "Python 3 (ipykernel)",
   "language": "python",
   "name": "python3"
  },
  "language_info": {
   "codemirror_mode": {
    "name": "ipython",
    "version": 3
   },
   "file_extension": ".py",
   "mimetype": "text/x-python",
   "name": "python",
   "nbconvert_exporter": "python",
   "pygments_lexer": "ipython3",
   "version": "3.9.13"
  }
 },
 "nbformat": 4,
 "nbformat_minor": 5
}
