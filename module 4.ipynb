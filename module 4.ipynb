{
 "cells": [
  {
   "cell_type": "code",
   "execution_count": null,
   "id": "26f3cfcd",
   "metadata": {},
   "outputs": [],
   "source": [
    " #Que 1: What is File function in python? What is keywords to create and write file.\n",
    " #Ans:\n",
    "        python file object provides methods and attributes to access and\n",
    "        manipulate files. Using file objects, we can read or write any files.\n",
    "        Whenever we open a file to perform any operations on it, Python returns a file object. \n",
    "        To create a file object in Python use the built-in functions, such as open() \n",
    "        Write to an Existing File\n",
    "    ==>To write to an existing file, you must add a parameter to the open() function:\n",
    "\n",
    "    ==> \"a\" - Append - will append to the end of the file\n",
    "\n",
    "    ==>\"w\" - Write - will overwrite any existing content\n",
    "\n"
   ]
  },
  {
   "cell_type": "code",
   "execution_count": 4,
   "id": "bdf070b8",
   "metadata": {},
   "outputs": [
    {
     "ename": "IndentationError",
     "evalue": "unexpected indent (1017868026.py, line 3)",
     "output_type": "error",
     "traceback": [
      "\u001b[1;36m  File \u001b[1;32m\"C:\\Users\\jigne\\AppData\\Local\\Temp\\ipykernel_17532\\1017868026.py\"\u001b[1;36m, line \u001b[1;32m3\u001b[0m\n\u001b[1;33m    def file_read(mona):\u001b[0m\n\u001b[1;37m    ^\u001b[0m\n\u001b[1;31mIndentationError\u001b[0m\u001b[1;31m:\u001b[0m unexpected indent\n"
     ]
    }
   ],
   "source": [
    "#Que 2:Write a Python program to read an entire text file.\n",
    "#Ans 2:\n",
    "       def file_read(mona):\n",
    "            txt = open(mona)\n",
    "            print(txt.read())\n",
    "\n",
    "file_read('test.txt')\n",
    "\n"
   ]
  },
  {
   "cell_type": "code",
   "execution_count": 3,
   "id": "2d94a0d9",
   "metadata": {},
   "outputs": [
    {
     "ename": "PermissionError",
     "evalue": "[Errno 13] Permission denied: '\\\\Users\\\\jigne\\\\OneDrive\\\\Desktop\\\\jignesh'",
     "output_type": "error",
     "traceback": [
      "\u001b[1;31m---------------------------------------------------------------------------\u001b[0m",
      "\u001b[1;31mPermissionError\u001b[0m                           Traceback (most recent call last)",
      "\u001b[1;32m~\\AppData\\Local\\Temp\\ipykernel_17532\\1104648223.py\u001b[0m in \u001b[0;36m<module>\u001b[1;34m\u001b[0m\n\u001b[0;32m      1\u001b[0m \u001b[1;31m#Que 3: Write a Python program to append text to a file and display the text.\u001b[0m\u001b[1;33m\u001b[0m\u001b[1;33m\u001b[0m\u001b[0m\n\u001b[1;32m----> 2\u001b[1;33m \u001b[0mpari\u001b[0m \u001b[1;33m=\u001b[0m \u001b[0mopen\u001b[0m\u001b[1;33m(\u001b[0m\u001b[1;34mr'\\Users\\jigne\\OneDrive\\Desktop\\jignesh'\u001b[0m\u001b[1;33m,\u001b[0m\u001b[1;34m'w'\u001b[0m\u001b[1;33m)\u001b[0m\u001b[1;33m\u001b[0m\u001b[1;33m\u001b[0m\u001b[0m\n\u001b[0m\u001b[0;32m      3\u001b[0m \u001b[0mpari\u001b[0m\u001b[1;33m.\u001b[0m\u001b[0mwrite\u001b[0m\u001b[1;33m(\u001b[0m\u001b[1;34m'this is book/nthis is GK book'\u001b[0m\u001b[1;33m)\u001b[0m\u001b[1;33m\u001b[0m\u001b[1;33m\u001b[0m\u001b[0m\n\u001b[0;32m      4\u001b[0m \u001b[1;33m\u001b[0m\u001b[0m\n\u001b[0;32m      5\u001b[0m \u001b[1;31m#f3=open(r'/home/travis/pictures/screenshots/preetiiii.txt','a')\u001b[0m\u001b[1;33m\u001b[0m\u001b[1;33m\u001b[0m\u001b[0m\n",
      "\u001b[1;31mPermissionError\u001b[0m: [Errno 13] Permission denied: '\\\\Users\\\\jigne\\\\OneDrive\\\\Desktop\\\\jignesh'"
     ]
    }
   ],
   "source": [
    "#Que 3: Write a Python program to append text to a file and display the text.\n",
    "pari = open(r'\\Users\\jigne\\OneDrive\\Desktop\\jignesh','w')\n",
    "pari.write('this is book/nthis is GK book')\n",
    "\n",
    "#f3=open(r'/home/travis/pictures/screenshots/preetiiii.txt','a')\n",
    "#f3.write('this is very important book')\n",
    "#f3.close()"
   ]
  },
  {
   "cell_type": "code",
   "execution_count": null,
   "id": "165829ea",
   "metadata": {},
   "outputs": [],
   "source": [
    "#Que 4: Write a Python program to read first n lines of a file.\n",
    "f3 = open(r'/home/travis/pictures/screenshots/preetiiii.txt','w')\n",
    "f3.write('this is book/nthis is GK book')\n",
    "f3.close()\n",
    "f3=open(r'/home/travis/pictures/screenshots/preetiiii.txt','w')\n",
    "f3.readline()\n",
    "f3.close()\n",
    "#ans 'this is book/n'"
   ]
  },
  {
   "cell_type": "code",
   "execution_count": 5,
   "id": "00eb23ca",
   "metadata": {},
   "outputs": [
    {
     "data": {
      "text/plain": [
       "29"
      ]
     },
     "execution_count": 5,
     "metadata": {},
     "output_type": "execute_result"
    }
   ],
   "source": [
    "#Que 5: Write a Python program to read last n lines of a file.\n",
    "f3 = open(r'C:\\Users\\jigne\\OneDrive\\Desktop\\jignesh\\pari.txt','w')\n",
    "f3.write('this is book/nthis is GK book')\n",
    "#f3.close()\n",
    "#f3=open(r'/home/travis/pictures/screenshots/preetiiii.txt','w')\n",
    "#f3.readline()\n",
    "#ans 'this is book/n'\n",
    "#f3.readline()\n",
    "#f3.close()\n",
    "#ans 'this is GK book'"
   ]
  },
  {
   "cell_type": "code",
   "execution_count": 7,
   "id": "26152640",
   "metadata": {},
   "outputs": [
    {
     "ename": "NameError",
     "evalue": "name 'notebooks' is not defined",
     "output_type": "error",
     "traceback": [
      "\u001b[1;31m---------------------------------------------------------------------------\u001b[0m",
      "\u001b[1;31mNameError\u001b[0m                                 Traceback (most recent call last)",
      "\u001b[1;32m~\\AppData\\Local\\Temp\\ipykernel_61832\\408214477.py\u001b[0m in \u001b[0;36m<module>\u001b[1;34m\u001b[0m\n\u001b[0;32m      1\u001b[0m \u001b[1;31m#Que 6:Write a Python program to read a file line by line and store it into a list\u001b[0m\u001b[1;33m\u001b[0m\u001b[1;33m\u001b[0m\u001b[0m\n\u001b[0;32m      2\u001b[0m \u001b[1;33m\u001b[0m\u001b[0m\n\u001b[1;32m----> 3\u001b[1;33m \u001b[0mf3\u001b[0m \u001b[1;33m=\u001b[0m\u001b[0mopen\u001b[0m\u001b[1;33m(\u001b[0m\u001b[1;36m8888\u001b[0m\u001b[1;33m/\u001b[0m\u001b[0mnotebooks\u001b[0m\u001b[1;33m/\u001b[0m\u001b[0mmodule\u001b[0m\u001b[1;33m%\u001b[0m\u001b[1;36m204\u001b[0m\u001b[1;33m,\u001b[0m\u001b[1;34m'r'\u001b[0m\u001b[1;33m)\u001b[0m\u001b[1;33m\u001b[0m\u001b[1;33m\u001b[0m\u001b[0m\n\u001b[0m\u001b[0;32m      4\u001b[0m \u001b[0mf3\u001b[0m\u001b[1;33m.\u001b[0m\u001b[0mwrite\u001b[0m\u001b[1;33m(\u001b[0m\u001b[1;34m'this is book/nthis is GK book'\u001b[0m\u001b[1;33m)\u001b[0m\u001b[1;33m\u001b[0m\u001b[1;33m\u001b[0m\u001b[0m\n",
      "\u001b[1;31mNameError\u001b[0m: name 'notebooks' is not defined"
     ]
    }
   ],
   "source": [
    "#Que 6:Write a Python program to read a file line by line and store it into a list\n",
    "\n",
    "f3 =open(r'\\Users\\jigne\\OneDrive\\Desktop\\jignesh','r')\n",
    "f3.write('this is book/nthis is GK book')\n"
   ]
  },
  {
   "cell_type": "code",
   "execution_count": 3,
   "id": "d312d071",
   "metadata": {},
   "outputs": [
    {
     "ename": "SyntaxError",
     "evalue": "invalid syntax (1888228521.py, line 2)",
     "output_type": "error",
     "traceback": [
      "\u001b[1;36m  File \u001b[1;32m\"C:\\Users\\jigne\\AppData\\Local\\Temp\\ipykernel_75420\\1888228521.py\"\u001b[1;36m, line \u001b[1;32m2\u001b[0m\n\u001b[1;33m    f4=open(http://localhost:8889/notebooks/module%204.ipynb,'r')\u001b[0m\n\u001b[1;37m                ^\u001b[0m\n\u001b[1;31mSyntaxError\u001b[0m\u001b[1;31m:\u001b[0m invalid syntax\n"
     ]
    }
   ],
   "source": [
    "#Que 8:Write a python program to find the longest words.\n",
    "f4=open(r'\\Users\\jigne\\OneDrive\\Desktop\\jignesh\\pari.txt','r')\n",
    "f4 = Here, we are checking all the words whose length is equal to that of the longest word\n"
   ]
  },
  {
   "cell_type": "code",
   "execution_count": 4,
   "id": "d205ca72",
   "metadata": {},
   "outputs": [
    {
     "name": "stdout",
     "output_type": "stream",
     "text": [
      "The following are the longest words from a text file:\n"
     ]
    }
   ],
   "source": [
    "print(\"The following are the longest words from a text file:\")\n"
   ]
  },
  {
   "cell_type": "code",
   "execution_count": null,
   "id": "1f4e21db",
   "metadata": {},
   "outputs": [],
   "source": [
    "#Que 9:Write a Python program to count the number of lines in a text file.\n",
    "with open(r'\\Users\\jigne\\OneDrive\\Desktop\\jignesh\\pari.txt' 'r') \n",
    "     = len(readlines())\n",
    "    print(Total Number of lines)"
   ]
  },
  {
   "cell_type": "code",
   "execution_count": null,
   "id": "d8892be8",
   "metadata": {},
   "outputs": [],
   "source": [
    "# Que 10 : Write a Python program to count the number of lines in a text file.\n",
    "m = open(r'\\Users\\jigne\\OneDrive\\Desktop\\jignesh\\pari.txt','r')\n",
    "x= m.readlines()\n",
    "m.close()\n",
    "print(len(x),'lines in file')"
   ]
  },
  {
   "cell_type": "code",
   "execution_count": null,
   "id": "5cf07964",
   "metadata": {},
   "outputs": [],
   "source": [
    "# Que 11: Write a Python program to write a list to a file.\n",
    "\n",
    "ls1 = ['yash goodluck','surat']\n",
    "file1 = open(r'\\Users\\jigne\\OneDrive\\Desktop\\jignesh\\pari.txt','w')\n",
    "file1 = ('my name is vedanshi','i am 4 year old')\n",
    "file1.close()\n",
    "\n"
   ]
  },
  {
   "cell_type": "code",
   "execution_count": null,
   "id": "f63c0767",
   "metadata": {},
   "outputs": [],
   "source": [
    "# Que 12 : Write a Python program to copy the contents of a file to another file.\n",
    "\n",
    "file101 = open(r'\\Users\\jigne\\OneDrive\\Desktop\\jignesh\\pari.txt','r')\n",
    "f_content = file101.readlines()\n",
    "file101.close()\n",
    "file201 = open(C:\\Users\\jigne\\OneDrive\\Desktop\\jignesh\\vedanshi.txt','w')\n",
    "file201.writelines(f_content)\n",
    "file201.close()\n",
    "\n"
   ]
  },
  {
   "cell_type": "code",
   "execution_count": null,
   "id": "85a63abf",
   "metadata": {},
   "outputs": [],
   "source": [
    "# Que 13 : Explain Exception handling? What is an Error in Python?\n",
    "Exception Handling is a process of handling unexpexted Errors, without stopping \n",
    "the programme execution.\n",
    "Errors are problems that occur in the program due to an illegal operation performed by the user or by the fault of a programmer, which halts the normal flow of the program.\n",
    "\n",
    "How many except statements can a try-except block have? Name Some built-in exception classes:\n",
    "One or more than one except statements can be use in try except block.Built in exception\n",
    "class are ValueError, NameError, KeyError, ZeroDivisionError, etc...\n",
    "\n",
    "\n",
    "When will the else part of try-except-else be executed?\n",
    "else part executes only after try block executes succesfully.\n",
    "\n",
    "\n",
    "Can one block of except statements handle multiple exception?\n",
    "One Block of except statements can handle one exception per block. To Use multiple Handling we can use nested try-catch block\n",
    "\n",
    "When is the finally block executed?\n",
    "finally block is executed after try or exception block\n",
    "\n",
    "What happens when '1‟== 1 is executed?\n",
    "'1' == 1 will check the value of both sides and if value is equal will return True else false\n",
    "How Do You Handle Exceptions With Try/Except/Finally In Python?Explain with coding snippets."
   ]
  },
  {
   "cell_type": "code",
   "execution_count": null,
   "id": "7bfe9443",
   "metadata": {},
   "outputs": [],
   "source": [
    "# Que 14 : How many except statements can a try-except block have? Name Some built-in exception classes:\n",
    "One or more than one except statements can be use in try except block.Built in exception\n",
    "class are ValueError, NameError, KeyError, ZeroDivisionError, etc...\n",
    "\n"
   ]
  },
  {
   "cell_type": "code",
   "execution_count": null,
   "id": "1b12e717",
   "metadata": {},
   "outputs": [],
   "source": [
    "# Que 15 : When will the else part of try-except-else be executed?\n",
    "else part executes only after try block executes succesfully.\n"
   ]
  },
  {
   "cell_type": "code",
   "execution_count": null,
   "id": "13f5c9c7",
   "metadata": {},
   "outputs": [],
   "source": [
    "# Que 16 : Can one block of except statements handle multiple exception?\n",
    "One Block of except statements can handle one exception per block. To Use multiple Handling we can use nested try-catch block\n"
   ]
  },
  {
   "cell_type": "code",
   "execution_count": null,
   "id": "189dffae",
   "metadata": {},
   "outputs": [],
   "source": [
    "# Que 17 : When is the finally block executed?\n",
    "finally block is executed after try or exception block\n",
    "\n",
    "What happens when '1‟== 1 is executed?\n",
    "'1' == 1 will check the value of both sides and if value is equal will return True else false\n",
    "How Do You Handle Exceptions With Try/Except/Finally In Python?Explain with coding snippets."
   ]
  },
  {
   "cell_type": "markdown",
   "id": "a3437739",
   "metadata": {},
   "source": [
    "# Que 18 : How Do You Handle Exceptions With Try/Except/Finally In Python?Explain with coding snippets.\n",
    "\n",
    "try:\n",
    "    number = int(input())\n",
    "    k=number/5\n",
    "    print(k)\n",
    "except ValueError:\n",
    "    print('Integer Number')\n",
    "except:\n",
    "    print('Error ')\n",
    "finally:\n",
    "    print('right')\n",
    "\n",
    "\n",
    "\n"
   ]
  },
  {
   "cell_type": "code",
   "execution_count": 13,
   "id": "4ed6f4b9",
   "metadata": {},
   "outputs": [
    {
     "name": "stdout",
     "output_type": "stream",
     "text": [
      "3\n"
     ]
    }
   ],
   "source": [
    "# Que 19 : \n",
    "class OddEvenError(Exception):\n",
    "    pass\n",
    "num = int(input())\n",
    "if num%2==0:\n",
    "    raise OddEvenError('Please Enter Odd Number')"
   ]
  },
  {
   "cell_type": "code",
   "execution_count": null,
   "id": "6290cae1",
   "metadata": {},
   "outputs": [],
   "source": [
    "# Que 20: What are oops concepts? Is multiple inheritance supported in java\n",
    "Concepts of Object-Oriented Programming (OOPs)\n",
    " \n",
    "1)Class and Objects\n",
    "2)Inheritance\n",
    "3)Polymorphism\n",
    "4)Encapsulation\n",
    "5)Data Abstraction\n",
    "\n",
    "Yes, Inheritance does support in java\n"
   ]
  },
  {
   "cell_type": "code",
   "execution_count": 22,
   "id": "bb1e81df",
   "metadata": {},
   "outputs": [],
   "source": [
    "#Que 21: How to Define a Class in Python? What Is Self? Give An Example Of A Python Class\n",
    "#A Class is like an object constructor, or a \"blueprint\" for creating objects.\n",
    "#Self is the parameter in (init) function that points the instance of that class\n",
    "\n",
    "class Example:\n",
    "    def __init__(self,a):\n",
    "        self.a = a\n",
    "Ex = Example('pari')\n",
    "\n"
   ]
  },
  {
   "cell_type": "code",
   "execution_count": 15,
   "id": "178aca83",
   "metadata": {},
   "outputs": [],
   "source": [
    "\n",
    "#Que 22 : Write a Python class named Rectangle constructed by a length and width and a method which will compute the area of a rectangle\n",
    "\n",
    "class Rectangle:\n",
    "    def __init__(self,l,w):\n",
    "        self.length = l\n",
    "        self.width = w\n",
    "    def area(self):\n",
    "        return (self.length * self.width)\n",
    "\n"
   ]
  },
  {
   "cell_type": "code",
   "execution_count": 17,
   "id": "3dd8c608",
   "metadata": {},
   "outputs": [
    {
     "data": {
      "text/plain": [
       "216"
      ]
     },
     "execution_count": 17,
     "metadata": {},
     "output_type": "execute_result"
    }
   ],
   "source": [
    "R1 = Rectangle(12,18)\n",
    "R1.area()\n",
    "\n",
    "\n"
   ]
  },
  {
   "cell_type": "code",
   "execution_count": 20,
   "id": "ca30955b",
   "metadata": {},
   "outputs": [
    {
     "data": {
      "text/plain": [
       "709.64"
      ]
     },
     "execution_count": 20,
     "metadata": {},
     "output_type": "execute_result"
    }
   ],
   "source": [
    "#Que 23: Write a Python class named Circle constructed by a radius and two methods which will compute the area and the perimeter of a circle\n",
    "\n",
    "class Circle:\n",
    "    def __init__(self,r):\n",
    "        self.radius = r\n",
    "    def area(self):\n",
    "        return (3.14 * self.radius**2)\n",
    "    def perimeter(self):\n",
    "        return (2*3.14 * self.radius)\n",
    "\n",
    "C1 = Circle(113)\n",
    "C1.area()\n",
    "C1.perimeter()\n",
    "\n"
   ]
  },
  {
   "cell_type": "code",
   "execution_count": null,
   "id": "1f44a7ad",
   "metadata": {},
   "outputs": [],
   "source": [
    "\n",
    "#Que 24: Explain Inheritance in Python with an example? What is init? Or What Is A Constructor In Python?\n",
    "It is a process that allows to create a hierarchy of classes that share a set of properties \n",
    "and methods by deriving a class from another class. Inheritance is the capability of \n",
    "one class to derive or inherit the properties from another class.\n",
    "init(), which takes the constructor’s arguments to initialize the newly created object.\n",
    "Constructors are generally used for instantiating an object.\n"
   ]
  },
  {
   "cell_type": "code",
   "execution_count": null,
   "id": "6d8ecc56",
   "metadata": {},
   "outputs": [],
   "source": [
    "#Que 25: What is Instantiation in terms of OOP terminology?\n",
    "Python’s instantiation process whenever you call a Python class to create a new instance.\n"
   ]
  },
  {
   "cell_type": "code",
   "execution_count": null,
   "id": "edabf524",
   "metadata": {},
   "outputs": [],
   "source": [
    "#Que 26:# What is used to check whether an object o is an instance of class A?\n",
    "isinstance(object_name, class_name)\n",
    "class School:\n",
    "    pass\n",
    "student = School()\n",
    "X = isinstance(student,School)\n",
    "print(X)"
   ]
  },
  {
   "cell_type": "code",
   "execution_count": null,
   "id": "b1274a69",
   "metadata": {},
   "outputs": [],
   "source": []
  },
  {
   "cell_type": "code",
   "execution_count": null,
   "id": "bf1f9235",
   "metadata": {},
   "outputs": [],
   "source": []
  },
  {
   "cell_type": "code",
   "execution_count": null,
   "id": "1d905241",
   "metadata": {},
   "outputs": [],
   "source": []
  },
  {
   "cell_type": "code",
   "execution_count": null,
   "id": "b98ea268",
   "metadata": {},
   "outputs": [],
   "source": []
  }
 ],
 "metadata": {
  "kernelspec": {
   "display_name": "Python 3 (ipykernel)",
   "language": "python",
   "name": "python3"
  },
  "language_info": {
   "codemirror_mode": {
    "name": "ipython",
    "version": 3
   },
   "file_extension": ".py",
   "mimetype": "text/x-python",
   "name": "python",
   "nbconvert_exporter": "python",
   "pygments_lexer": "ipython3",
   "version": "3.9.13"
  }
 },
 "nbformat": 4,
 "nbformat_minor": 5
}
