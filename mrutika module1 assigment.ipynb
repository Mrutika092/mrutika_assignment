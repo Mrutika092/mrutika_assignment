{
 "cells": [
  {
   "cell_type": "code",
   "execution_count": null,
   "id": "8eef9fe7",
   "metadata": {},
   "outputs": [],
   "source": [
    "                                  module 1(SDLC)\n",
    "ans 1: software is nothing but a collection of computer programs and related document \n",
    "       that are intended to provide desired feactures, functionalities and better performance.\n",
    "        \n",
    "        software products may be.\n",
    "        1)generic - same software for range of customers.\n",
    "        2)custom   - for single customer according to their specification.\n",
    "        2) Types:\n",
    "            1) system software \n",
    "            2) Applicaton software\n",
    "            "
   ]
  },
  {
   "cell_type": "code",
   "execution_count": null,
   "id": "a13f5131",
   "metadata": {},
   "outputs": [],
   "source": [
    "Ans 2: 3 types of application \n",
    "       1) web application: -any website component that performaces.\n",
    "                           -some functiom for the user qualifies as aweb application \n",
    "                           -is a computer program with functionality and interactive elements.\n",
    "                           -you use regular web technologies to build it but \n",
    "                           -it also stores data and manipulates it according to a user's  needs.\n",
    "                           -web apps are extremely customizable and can performs a wide range of tasks.\n",
    "                           -and functinalities like creating, reading,updating,\n",
    "                           -and deleting data in the app.they are more complex and difficult to build,\n",
    "                           -so they requirsd an experienced team of developers to create them.\n",
    "                            examples:\n",
    "                                shoping carts videos,photo editing,file conversion tools,file scanning apps,email prorams.\n",
    "      2) Mobile application :- An applicaton software.\n",
    "                            - Intened to run on mobile devices like tablets,smart phones.\n",
    "      3) Desktop Application :- An application that runs stand -alone in a desktop or laptop computer.\n",
    "    "
   ]
  },
  {
   "cell_type": "code",
   "execution_count": null,
   "id": "a6a75255",
   "metadata": {},
   "outputs": [],
   "source": [
    "Ans 3: -The process of scheduling something, especially radio or television programmes.\n",
    "       - computer programming is the process of performing a particular \n",
    "         computation uasally by desigins and builidng an executive computer. "
   ]
  },
  {
   "cell_type": "markdown",
   "id": "9da8b20b",
   "metadata": {},
   "source": [
    "Ans 4:- python is a popular programming language.\n",
    "      - It was  created by guido van rossum ,and released in 1991.\n",
    "      - python is a high -level ,genearal purpose programming language.\n",
    "      - it is open sourse.\n",
    "      - pythonis dynamically typed and garbage-collection."
   ]
  }
 ],
 "metadata": {
  "kernelspec": {
   "display_name": "Python 3 (ipykernel)",
   "language": "python",
   "name": "python3"
  },
  "language_info": {
   "codemirror_mode": {
    "name": "ipython",
    "version": 3
   },
   "file_extension": ".py",
   "mimetype": "text/x-python",
   "name": "python",
   "nbconvert_exporter": "python",
   "pygments_lexer": "ipython3",
   "version": "3.9.13"
  }
 },
 "nbformat": 4,
 "nbformat_minor": 5
}
